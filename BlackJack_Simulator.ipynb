{
  "nbformat": 4,
  "nbformat_minor": 0,
  "metadata": {
    "colab": {
      "provenance": [],
      "collapsed_sections": []
    },
    "kernelspec": {
      "name": "python3",
      "display_name": "Python 3"
    },
    "language_info": {
      "name": "python"
    }
  },
  "cells": [
    {
      "cell_type": "markdown",
      "source": [
        "# **BlackJack 21 Simulator!**"
      ],
      "metadata": {
        "id": "FBlCsLIb5S0W"
      }
    },
    {
      "cell_type": "code",
      "execution_count": null,
      "metadata": {
        "id": "ayOMkd3auuEy"
      },
      "outputs": [],
      "source": [
        "import random\n",
        "import time\n",
        "import numpy as np\n",
        "import matplotlib.pyplot as plt\n",
        "import seaborn as sns\n",
        "%matplotlib inline"
      ]
    },
    {
      "cell_type": "markdown",
      "source": [
        "## **Introduction to BlackJack**\n",
        "\n",
        "**BlackJack**, also know as Twenty One due to the special role of the number in the game, is arguably the oldest known casino game. The game played with 1 to 8 deck of cards allows the player to directly play against the casino and remains **one of the only mathematically beatable casino games.**\n",
        "\n",
        "A small introduction of the rules can be found on the link: [Intro Video](https://www.youtube.com/watch?v=DwwaJGStuP0)\n",
        "\n",
        "As seen a total of 5 actions can be taken by the player:\n",
        "\n",
        "\n",
        "*   **Hit:** Draws a card\n",
        "*   **Stand:** No more card to draw\n",
        "*   **Double:** Doubles the bet and draws one card and stands\n",
        "*   **Split:** Splits a value pair into two individual hands to play separately\n",
        "*   **Surrender:** Forfiets the game by splitting the bet amount equally between the Casino and the Player."
      ],
      "metadata": {
        "id": "4x2vZRzNMyr0"
      }
    },
    {
      "cell_type": "markdown",
      "source": [
        "## **Creating a Standard BlackJack Deck**\n",
        "\n",
        "BlackJack is played with a standard deck of 52 cards with all cards from 2 to 9 representing facevalues, 10, J, Q, K representing 10 and A representing both 1 and 11 depending upon the situation.\n",
        "\n",
        "\n",
        "We create our deck with 4 10s instead of 10, J, Q, K for simplicity of code."
      ],
      "metadata": {
        "id": "ea_XV3dHLCHs"
      }
    },
    {
      "cell_type": "code",
      "source": [
        "def newdeck(num_decks):\n",
        "  std_deck = [str(i)+str(j) for i in [2,3,4,5,6,7,8,9,10,10,10,10,11] for j in [\"S\", \"H\", \"C\", \"D\"]]\n",
        "  play_deck = std_deck*num_decks\n",
        "\n",
        "  random.shuffle(play_deck)\n",
        "  return play_deck[:]"
      ],
      "metadata": {
        "id": "wUMnJTExu33N"
      },
      "execution_count": null,
      "outputs": []
    },
    {
      "cell_type": "markdown",
      "source": [
        "## **Edward Thorp's Beat the Dealer**\n",
        "\n",
        "In 1962, Edward Thorp published the first edition of his book ***Beat the Dealer*** solely dedicated to understanding the game of BlackJack and developing human strategies to excel at the game. As a result, the readers were able to earn great profits. Over the next few years, Casinos started taking measures to counter the so called *method players* including adding extra decks and shuffling very often to disrupt the strategies. \n",
        "\n",
        "In 1966, Thorp published a corrected and extended version of \"Beat the Dealer\" which to date proves to be the best human played strategy of the game.\n",
        "\n",
        "Though the best method referred above is a Counting Cards strategy, Thorp also gave a basic strategy to provide a reference of actions in regular situations.\n",
        "With the entire strategy learnt to heart, Thorp calculated a **long term return of +0.13%** which was the first time player advantage over the casino."
      ],
      "metadata": {
        "id": "Sfig8l-FT7Oo"
      }
    },
    {
      "cell_type": "markdown",
      "source": [
        "#### **Draw or Stand**\n",
        "<center>\n",
        "\n",
        "<br>\n",
        "\n",
        " ***Hard Totals*** \n",
        "\n",
        "You have ⬇ | 2 | 3 | 4 | 5 | 6 | 7 | 8 | 9 | 10 | 11\n",
        ":--------:|:-:|:-:|:-:|:-:|:-:|:-:|:-:|:-:|:--:|:--:\n",
        "17|S|S|S|S|S|**S**|**S**|**S**|**S**|**S**\n",
        "16|S|S|S|S|S|D|D|D|**^**|D\n",
        "15|S|S|S|S|S|D|D|D|D|D\n",
        "14|S|S|S|S|S|D|D|D|*|D\n",
        "13|**S**|**S**|S|S|S|D|D|D|D|D\n",
        "12|D|D|**S**|**S**|**S**|D|D|D|D|D\n",
        "\n",
        "<font size=\"2\">\n",
        "`^`➡ Draw if holding two cards and stand if holding more <br> </font>\n",
        "<font size=\"2\">\n",
        "`*`➡ Stand if holding (7,7) </font>\n",
        "\n",
        "<br>\n",
        "<br>\n",
        "\n",
        "***Soft Totals***\n",
        "\n",
        "\n",
        "You have ⬇ | 2 | 3 | 4 | 5 | 6 | 7 | 8 | 9 | 10 | 11\n",
        ":--------:|:-:|:-:|:-:|:-:|:-:|:-:|:-:|:-:|:--:|:--:\n",
        "19|S|S|S|S|S|S|S|**S**|**S**|S\n",
        "18|**S**|**S**|**S**|**S**|**S**|**S**|**S**|D|D|**S**\n",
        "\n",
        "</center>\n"
      ],
      "metadata": {
        "id": "yeqZpYni09iM"
      }
    },
    {
      "cell_type": "markdown",
      "source": [
        "#### **Double**\n",
        "\n",
        "<center>\n",
        "<br>\n",
        "\n",
        "***Hard Totals***\n",
        "\n",
        "You have ⬇ | 2 | 3 | 4 | 5 | 6 | 7 | 8 | 9 | 10 | 11\n",
        ":--------:|:-:|:-:|:-:|:-:|:-:|:-:|:-:|:-:|:--:|:--:\n",
        "11|Y|Y|Y|Y|Y|Y|Y|Y|**Y**|**Y**\n",
        "10|Y|Y|Y|Y|Y|**Y**|**Y**|**Y**|N|N\n",
        "9|**Y**|**Y**|**Y**|**Y**|**Y**|N|N|N|N|N\n",
        "8|N|N|N|*|*|N|N|N|N|N\n",
        "\n",
        "<font size=\"2\">\n",
        " `*` ➡ Double down except with (6,2)\n",
        " </font>\n",
        " <br>\n",
        " <br>\n",
        "\n",
        " ***Soft Totals***\n",
        "\n",
        " You have ⬇ | 2 | 3 | 4 | 5 | 6 | 7 | 8 | 9 | 10 | 11\n",
        ":--------:|:-:|:-:|:-:|:-:|:-:|:-:|:-:|:-:|:--:|:--:\n",
        "A,7|N|Y|Y|Y|Y|N|N|N|N|N\n",
        "A,6|Y|Y|Y|Y|Y|N|N|N|N|N\n",
        "A,5|N|N|Y|Y|Y|N|N|N|N|N\n",
        "A,4|N|N|Y|Y|Y|N|N|N|N|N\n",
        "A,3|N|N|Y|Y|Y|N|N|N|N|N\n",
        "A,2|N|N|Y|Y|Y|N|N|N|N|N\n",
        "A,A*|N|N|N|Y|Y|N|N|N|N|N\n",
        "\n",
        "<font size=\"2\">\n",
        "`*`➡ Double down with (A,A) only if splitting isn't allowed.</center>\n",
        "</font>"
      ],
      "metadata": {
        "id": "UT25ERpuKYL6"
      }
    },
    {
      "cell_type": "markdown",
      "source": [
        "#### **Pair Splitting**\n",
        "\n",
        "<center>\n",
        "\n",
        "You have ⬇ | 2 | 3 | 4 | 5 | 6 | 7 | 8 | 9 | 10 | 11\n",
        ":--------:|:-:|:-:|:-:|:-:|:-:|:-:|:-:|:-:|:--:|:--:\n",
        "A,A|Y|Y|Y|Y|Y|Y|Y|Y|Y|Y\n",
        "10,10|N|N|N|N|N|N|N|N|N|N\n",
        "9,9|Y|Y|Y|Y|Y|N|Y|Y|N|N\n",
        "8,8|Y|Y|Y|Y|Y|Y|Y|Y|Y|Y\n",
        "7,7|Y|Y|Y|Y|Y|Y|Y|N|N|N\n",
        "6,6|Y|Y|Y|Y|Y|Y|N|N|N|N\n",
        "5,5|N|N|N|N|N|N|N|N|N|N\n",
        "4,4|N|N|N|Y|N|N|N|N|N|N\n",
        "3,3|Y|Y|Y|Y|Y|Y|N|N|N|N\n",
        "2,2|Y|Y|Y|Y|Y|Y|N|N|N|N\n",
        "\n",
        "</center>"
      ],
      "metadata": {
        "id": "RFbwRJmFNkTG"
      }
    },
    {
      "cell_type": "code",
      "source": [
        "def play(strategy, deck, num_decks, playercards, dealercards, bet, policy = None, rewards = None):\n",
        "\n",
        "  \n",
        "  # Dealer's first card is shown and second is hidden\n",
        "\n",
        "  if strategy == \"basic_strategy\":\n",
        "\n",
        "    hit_stand = {\"hard\": {2:13, 3:13, 4:12, 5:12, 6:12, 7:17, 8:17, 9:17, 10:17, 11:17}, \n",
        "                 \"soft\" : {2:18, 3:18, 4:18, 5:18, 6:18, 7:18, 8:18, 9:19, 10:19, 11:18}}\n",
        "  \n",
        "    double = {\"hard\": {2:[9,10,11], 3:[9,10,11], 4:[9,10,11], 5:[9,10,11], 6:[9,10,11], 7: [10,11], 8: [10,11], 9: [10,11], 10: [11], 11: [11]}, \n",
        "              \"soft\" : {2 : [17] , 3: [18,17] , 4:[13,14,15,16,17,18], 5:[12,13,14,15,16,17,18], 6:[12,13,14,15,16,17,18], 7:[], 8:[], 9:[], 10:[], 11:[]}}\n",
        "\n",
        "    pair = {11: [2,3,4,5,6,7,8,9,10,11], 10: [], 9:[2,3,4,5,6,8,9], 8:[2,3,4,5,6,7,8,9,10,11], \n",
        "            7:[2,3,4,5,6,7,8], 6:[2,3,4,5,6,7], 5:[], 4:[5], 3:[2,3,4,5,6,7], 2:[2,3,4,5,6,7]}\n",
        "\n",
        "    double_happend = False\n",
        "\n",
        "    # Dealer and Player BlackJack\n",
        "    if int(dealercards[0][:-1]) + int(dealercards[1][:-1]) == 21 and int(playercards[0][:-1]) + int(playercards[1][:-1]) == 21:\n",
        "      return bet\n",
        "\n",
        "    # Dealer BlackJack\n",
        "    elif int(dealercards[0][:-1]) + int(dealercards[1][:-1]) == 21:\n",
        "      return 0\n",
        "\n",
        "    # Player BlackJack\n",
        "    elif int(playercards[0][:-1]) + int(playercards[1][:-1]) == 21:\n",
        "      return bet*2.5\n",
        "\n",
        "    # Do we have a pair\n",
        "    '''if playercards[0][:-1] == playercards[1][:-1]:\n",
        "\n",
        "      # Do we want to split the pair?\n",
        "      if int(dealercards[0][:-1]) in pair[int(playercards[0][:-1])]:\n",
        "\n",
        "        # Yes \n",
        "        pass\n",
        "      pass'''\n",
        "\n",
        "    # Check for soft hand\n",
        "    if playercards[0][:-1] == \"11\" or playercards[1][:-1] == \"11\":\n",
        "      playersum = int(playercards[0][:-1]) + int(playercards[1][:-1])\n",
        "\n",
        "      # Check for Double\n",
        "      if playersum in double[\"soft\"][int(dealercards[0][:-1])]:\n",
        "        if len(deck) == 0:\n",
        "          deck = newdeck(num_decks)\n",
        "        playercards.append(deck.pop())\n",
        "        playersum+=int(playercards[-1][:-1])\n",
        "        double_happend=True\n",
        "        if playersum>21:\n",
        "          playersum-=10\n",
        "      \n",
        "      # Hit the soft hand\n",
        "      else:\n",
        "        hard = False\n",
        "        while playersum<21:\n",
        "          if playersum >= hit_stand[\"soft\"][int(dealercards[0][:-1])]:\n",
        "            break\n",
        "          if len(deck) == 0:\n",
        "            deck = newdeck(num_decks)\n",
        "          playercards.append(deck.pop())\n",
        "          playersum+=int(playercards[-1][:-1])\n",
        "          if playercards[-1][:-1]==\"11\":\n",
        "            playersum-=10\n",
        "        if playersum>21 and not hard:\n",
        "          playersum-=10\n",
        "          hard = True\n",
        "        if hard:\n",
        "          while playersum<hit_stand[\"hard\"][int(dealercards[0][:-1])]:\n",
        "            if len(deck) == 0:\n",
        "              deck = newdeck(num_decks)\n",
        "            playercards.append(deck.pop())\n",
        "            if int(playercards[-1][:-1]) == 11:\n",
        "              playersum+=1\n",
        "            else:\n",
        "              playersum+=int(playercards[-1][:-1])\n",
        "\n",
        "\n",
        "    # Hard Hand\n",
        "    else:\n",
        "      playersum = int(playercards[0][:-1]) + int(playercards[1][:-1])\n",
        "\n",
        "      # Check for Double\n",
        "      if playersum in double[\"hard\"][int(dealercards[0][:-1])]: \n",
        "        if len(deck) == 0:\n",
        "          deck = newdeck(num_decks)\n",
        "        playercards.append(deck.pop())\n",
        "        double_happend=True\n",
        "        if playersum==11 and int(playercards[-1][:-1])==11:\n",
        "          playersum=12\n",
        "        else:\n",
        "          playersum+=int(playercards[-1][:-1])\n",
        "\n",
        "      elif playersum >= hit_stand[\"hard\"][int(dealercards[0][:-1])]: \n",
        "        # Stand\n",
        "        pass\n",
        "        \n",
        "      else: #hit\n",
        "        if playersum>11:\n",
        "          while playersum<hit_stand[\"hard\"][int(dealercards[0][:-1])]:\n",
        "            if len(deck) == 0:\n",
        "              deck = newdeck(num_decks)\n",
        "            playercards.append(deck.pop())\n",
        "            if int(playercards[-1][:-1]) == 11:\n",
        "              playersum+=1\n",
        "            else:\n",
        "              playersum+=int(playercards[-1][:-1])\n",
        "        else:\n",
        "          oneace = False\n",
        "          hard = True\n",
        "          while playersum < hit_stand[\"hard\"][int(dealercards[0][:-1])]:\n",
        "            if len(deck) == 0:\n",
        "              deck = newdeck(num_decks)\n",
        "            playercards.append(deck.pop())\n",
        "            if (int(playercards[-1][:-1]) == 11 and oneace) or playersum>=11:\n",
        "              playersum+=1\n",
        "            elif int(playercards[-1][:-1]) == 11:\n",
        "              oneace = True\n",
        "              hard = False\n",
        "              playersum+=11\n",
        "            else:\n",
        "              playersum+=int(playercards[-1][:-1])\n",
        "              if playersum>21 and not hard:\n",
        "                playersum-=10\n",
        "                hard = True\n",
        "\n",
        "    if playersum>21:\n",
        "      return 0\n",
        "    #print(playercards)\n",
        "\n",
        "    if int(dealercards[0][:-1])==11 or int(dealercards[1][:-1])==11:\n",
        "      dealeroneace=True\n",
        "      dealerhard = False\n",
        "    else:\n",
        "      dealeroneace=False\n",
        "      dealerhard = True\n",
        "    \n",
        "    dealersum = int(dealercards[0][:-1]) + int(dealercards[1][:-1])\n",
        "    while dealersum<17:\n",
        "      if len(deck) == 0:\n",
        "        deck = newdeck(num_decks)\n",
        "      dealercards.append(deck.pop())\n",
        "      if dealercards[-1][:-1]==\"11\" and (dealeroneace or dealersum>=11):\n",
        "        dealersum+=1\n",
        "      elif dealercards[-1][:-1]==\"11\":\n",
        "        dealersum+=11\n",
        "        dealerhard = False\n",
        "        dealeroneace=True\n",
        "      elif dealersum + int(dealercards[-1][:-1])>21 and not dealerhard:\n",
        "        dealersum-=10\n",
        "        dealersum+=int(dealercards[-1][:-1])\n",
        "        dealerhard=True\n",
        "      else:\n",
        "        dealersum += int(dealercards[-1][:-1])\n",
        "      \n",
        "      #print(dealercards)\n",
        "    \n",
        "    if dealersum>21 or playersum>dealersum:\n",
        "      if double_happend:\n",
        "        return bet*3\n",
        "      return bet*2\n",
        "    elif playersum==dealersum:\n",
        "      return bet\n",
        "    else:\n",
        "      return -bet if double_happend else 0\n",
        "\n",
        "  elif strategy == \"human\":\n",
        "\n",
        "    playersum = int(playercards[0][:-1]) + int(playercards[1][:-1])\n",
        "    print(\"Player Cards are:\", playercards)\n",
        "    print(\"Sum of your cards is\", playersum)\n",
        "    print()\n",
        "    print(\"Dealer's open card is:\", dealercards[0])\n",
        "    doublehappend = False\n",
        "\n",
        "    if int(dealercards[0][:-1]) + int(dealercards[1][:-1]) == 21 and int(playercards[0][:-1]) + int(playercards[1][:-1]) == 21:\n",
        "      print(\"Both Dealer and Player BlackJack. It's a tie\")\n",
        "      return bet\n",
        "\n",
        "    # Dealer BlackJack\n",
        "    elif int(dealercards[0][:-1]) + int(dealercards[1][:-1]) == 21:\n",
        "      print(\"Dealer BlackJack. Dealer wins\")\n",
        "      return 0\n",
        "\n",
        "    # Player BlackJack\n",
        "    elif int(playercards[0][:-1]) + int(playercards[1][:-1]) == 21:\n",
        "      print(\"Player BlackJack!!! Player wins!\")\n",
        "      return bet*2.5\n",
        "\n",
        "    hard = True\n",
        "    oneace = False\n",
        "    if playercards[0][:-1] == \"11\" or playercards[1][:-1]==\"11\":\n",
        "      hard = False\n",
        "      oneace=True\n",
        "    \n",
        "    while True:\n",
        "      action = input()\n",
        "      if action.lower() == \"stand\":\n",
        "        break\n",
        "      elif action.lower() == \"hit\":\n",
        "        if len(deck) == 0:\n",
        "          deck = newdeck(num_decks)\n",
        "        playercards.append(deck.pop())\n",
        "        print(playercards)\n",
        "        if playercards[-1][:-1] == \"11\" and (playersum>=11 or oneace):\n",
        "          playersum+=1\n",
        "        elif playercards[-1][:-1] ==\"11\":\n",
        "          playersum+=11\n",
        "          hard=False\n",
        "          oneace = True\n",
        "        elif playersum + int(playercards[-1][:-1])>21 and not hard:\n",
        "          playersum-=10\n",
        "          playersum+=int(playercards[-1][:-1])\n",
        "          hard = True\n",
        "        else:\n",
        "          playersum+=int(playercards[-1][:-1])\n",
        "        \n",
        "        print(\"Sum of your cards is\", playersum)\n",
        "        if playersum>21:\n",
        "          break\n",
        "        \n",
        "      elif action.lower() == \"double\":\n",
        "        if playersum>11:\n",
        "          print(\"Double not allowed. Choose another action\")\n",
        "          continue\n",
        "        \n",
        "        doublehappend=True\n",
        "        if len(deck) == 0:\n",
        "          deck = newdeck(num_decks)\n",
        "        playercards.append(deck.pop())\n",
        "        print(playercards)\n",
        "\n",
        "        if playercards[-1][:-1]==\"11\":\n",
        "          playersum+=1\n",
        "        else:\n",
        "          playersum+=int(playercards[-1][:-1])\n",
        "        print(\"Sum of your cards is\", playersum)\n",
        "        break\n",
        "      elif action.lower() == \"split\":\n",
        "        print(\"Code pending. Choose another action\")\n",
        "      elif action.lower() == \"surrender\":\n",
        "        return round(bet/2, 2)\n",
        "      else:\n",
        "        print(\"Action\", action, \"not identified. Please check your action\")\n",
        "    \n",
        "    if int(dealercards[0][:-1])==11 or int(dealercards[1][:-1])==11:\n",
        "      dealeroneace=True\n",
        "      dealerhard = False\n",
        "    else:\n",
        "      dealeroneace=False\n",
        "      dealerhard = True\n",
        "    if playersum>21:\n",
        "      print(\"Player Busts! Dealer wins.\")\n",
        "      return 0\n",
        "    print(\"The Dealer's cards are:\", dealercards)\n",
        "    \n",
        "    dealersum = int(dealercards[0][:-1]) + int(dealercards[1][:-1])\n",
        "    print(\"Dealer's sum is\", dealersum)\n",
        "\n",
        "    while dealersum<17:\n",
        "      time.sleep(1)\n",
        "      if len(deck) == 0:\n",
        "        deck = newdeck(num_decks)\n",
        "      print(\"Dealer hits!\")\n",
        "      dealercards.append(deck.pop())\n",
        "      print(\"The Dealer's cards are:\", dealercards)\n",
        "      if dealercards[-1][:-1]==\"11\" and (dealeroneace or dealersum>=11):\n",
        "        dealersum+=1\n",
        "      elif dealercards[-1][:-1]==\"11\":\n",
        "        dealersum+=11\n",
        "        dealerhard = False\n",
        "        dealeroneace=True\n",
        "      elif dealersum + int(dealercards[-1][:-1])>21 and not dealerhard:\n",
        "        dealersum-=10\n",
        "        dealersum+=int(dealercards[-1][:-1])\n",
        "        dealerhard=True\n",
        "      else:\n",
        "        dealersum += int(dealercards[-1][:-1])\n",
        "      print(\"Dealer sum is\", dealersum)\n",
        "      time.sleep(1)\n",
        "    \n",
        "    if dealersum>21 or playersum>dealersum:\n",
        "      print(\"Player wins!\")\n",
        "      if doublehappend:\n",
        "        return bet*3\n",
        "      return bet*2\n",
        "    elif playersum==dealersum:\n",
        "      print(\"It's a Draw\")\n",
        "      return bet\n",
        "    else:\n",
        "      print(\"Dealer wins.\")\n",
        "      return -bet if doublehappend else 0\n",
        "\n",
        "\n"
      ],
      "metadata": {
        "id": "Lc_IzxwlxL5e"
      },
      "execution_count": null,
      "outputs": []
    },
    {
      "cell_type": "code",
      "source": [
        "def BlackJack(num_decks, strategy, num_games, bet, policy=None, rewards = None, exploration = \"epsilon_greedy\", explo_param = 0.1):\n",
        "  deck = newdeck(num_decks)\n",
        "  moneyspent = -num_games*bet\n",
        "  for i in range(num_games):\n",
        "    #print(\"Game:\", i+1)\n",
        "    playercards = []\n",
        "    dealercards = []\n",
        "\n",
        "    # Giving out Initial Cards\n",
        "    if len(deck) == 0:\n",
        "      deck = newdeck(num_decks)\n",
        "    playercards.append(deck.pop())\n",
        "    if len(deck) == 0:\n",
        "      deck = newdeck(num_decks)\n",
        "    dealercards.append(deck.pop())\n",
        "    if len(deck) == 0:\n",
        "      deck = newdeck(num_decks)\n",
        "    playercards.append(deck.pop())\n",
        "    if len(deck) == 0:\n",
        "      deck = newdeck(num_decks)\n",
        "    dealercards.append(deck.pop())\n",
        "\n",
        "    # Playing with respect to a strategy\n",
        "    if strategy == \"agent\":\n",
        "      gameresult = agents_play(deck, num_decks, playercards, dealercards, bet, policy, rewards, exploration, explo_param)\n",
        "    else:\n",
        "      gameresult = play(strategy, deck, num_decks, playercards, dealercards, bet)\n",
        "    \n",
        "    moneyspent+=gameresult\n",
        "    #print(moneyspent)\n",
        "    if strategy == \"human\":\n",
        "      print(\"Winnings:\", gameresult)\n",
        "      print()\n",
        "      time.sleep(2)\n",
        "      print(\"Total Winnings:\", end=\" \")\n",
        "  return moneyspent"
      ],
      "metadata": {
        "id": "x3DSq-xMvm6l"
      },
      "execution_count": null,
      "outputs": []
    },
    {
      "cell_type": "markdown",
      "source": [
        "## **Let us Play!!**\n",
        "\n",
        "\n"
      ],
      "metadata": {
        "id": "JnKQxAahSrvS"
      }
    },
    {
      "cell_type": "code",
      "source": [
        "\n",
        "num_decks=2\n",
        "num_hands=2\n",
        "bet_amount=5\n",
        "\n",
        "#(BlackJack(num_decks, \"human\", num_hands, bet_amount))\n"
      ],
      "metadata": {
        "id": "BsyGxaob6MxZ"
      },
      "execution_count": null,
      "outputs": []
    },
    {
      "cell_type": "markdown",
      "source": [
        "## **Test of the basic strategy**"
      ],
      "metadata": {
        "id": "LS_Qd8B-mri5"
      }
    },
    {
      "cell_type": "code",
      "source": [
        "profits = []\n",
        "num_decks=2\n",
        "num_hands = 10000\n",
        "num_simulations = 1000\n",
        "bet_amount = 1\n",
        "\n",
        "for i in range(num_simulations):\n",
        "  profits.append(BlackJack(num_decks, \"basic_strategy\", num_hands, bet_amount))"
      ],
      "metadata": {
        "id": "b50vaF7iELt8"
      },
      "execution_count": null,
      "outputs": []
    },
    {
      "cell_type": "code",
      "source": [
        "plt.title(\"Frequency of Profits in 10000 Games over 1000 interations\")\n",
        "plt.xlabel(\"Rewards Gained\")\n",
        "plt.ylabel(\"Frequency\")\n",
        "plt.hist(profits, color = 'blue', edgecolor = 'black')\n",
        "plt.show()\n",
        "#plt.savefig(\"BasicStrategy Profit.png\")"
      ],
      "metadata": {
        "colab": {
          "base_uri": "https://localhost:8080/",
          "height": 295
        },
        "id": "LRW_WC_5YHmc",
        "outputId": "945a29b9-3a75-4406-f8a0-34579f2b3337"
      },
      "execution_count": null,
      "outputs": [
        {
          "output_type": "display_data",
          "data": {
            "text/plain": [
              "<Figure size 432x288 with 1 Axes>"
            ],
            "image/png": "[encoded data removed]"
          },
          "metadata": {
            "needs_background": "light"
          }
        }
      ]
    },
    {
      "cell_type": "code",
      "source": [
        "plt.title(\"Profit in 10000 Hands over 1000 Iterations\")\n",
        "plt.ylabel(\"Rewards Gained\")\n",
        "plt.xlabel(\"Game Number\")\n",
        "plt.plot(profits)\n",
        "plt.show()\n",
        "#plt.savefig(\"Basic Strategy Games\")"
      ],
      "metadata": {
        "id": "NPMtc_QtQKea",
        "colab": {
          "base_uri": "https://localhost:8080/",
          "height": 295
        },
        "outputId": "40689cee-728d-46a5-ff4c-ebf8de6a5cc5"
      },
      "execution_count": null,
      "outputs": [
        {
          "output_type": "display_data",
          "data": {
            "text/plain": [
              "<Figure size 432x288 with 1 Axes>"
            ],
            "image/png": "[encoded data removed]"
          },
          "metadata": {
            "needs_background": "light"
          }
        }
      ]
    },
    {
      "cell_type": "code",
      "source": [
        "print(sum(profits)/len(profits))"
      ],
      "metadata": {
        "colab": {
          "base_uri": "https://localhost:8080/"
        },
        "id": "5V_jjSdaE95L",
        "outputId": "ae4a0859-7893-4a4d-ab17-97a9b501f2f9"
      },
      "execution_count": null,
      "outputs": [
        {
          "output_type": "stream",
          "name": "stdout",
          "text": [
            "-97.5325\n"
          ]
        }
      ]
    },
    {
      "cell_type": "markdown",
      "source": [
        "## **Reinforcement Learning**"
      ],
      "metadata": {
        "id": "ADpx47Lus3hn"
      }
    },
    {
      "cell_type": "markdown",
      "source": [
        "The idea that we learn by interacting with our environment is probably the first to occur to us when we think about the nature of learning. Reinforcement Learning is the **computational approach of learning by interacting with the environment.** Rather than directly theorizing about how people or animals learn, we primarily explore idealized learning situations and evaluate the effectiveness of various learning methods.\n",
        "\n",
        "So, Reinforcement Learning is learning what to do — **how to map situations to actions** — so as **to maximize a numerical reward signal.**\n",
        "\n",
        "We formalize the problem of reinforcement learning using ideas from dynamical systems theory, specifically, as the optimal control of incompletely-known **Markov decision processes.** Markov decision processes are intended to include just three aspects—**sensation, action, and goal**—in their simplest possible forms without trivializing any of them."
      ],
      "metadata": {
        "id": "DQH2c51uKf_F"
      }
    },
    {
      "cell_type": "markdown",
      "source": [
        "We **initialise a policy** that the agent follows while playing the game of BlackJack for a **reference of actions** to be taken in **various possible states**.\n",
        "Reinforcement Learning allows for different ways to initialise a policy resulting in different convergence rates to the optimal policy. For the current project, we chose a random policy initialisation."
      ],
      "metadata": {
        "id": "E4hqK3XaNsKI"
      }
    },
    {
      "cell_type": "code",
      "source": [
        "policy = {\"H{}\".format(i):np.random.choice([\"hit\", \"stand\", \"double\", \"surrender\"], 10) for i in range(4,21)}\n",
        "for i in range(12,21):\n",
        "  policy[\"S{}\".format(i)] = np.random.choice([\"hit\", \"stand\", \"double\", \"surrender\"], 10)"
      ],
      "metadata": {
        "id": "Jo9sHdKDWTTf"
      },
      "execution_count": null,
      "outputs": []
    },
    {
      "cell_type": "code",
      "source": [
        "def print_policy(policy):\n",
        "  num_pchoices = len(policy)\n",
        "  print(\"You have ⬇ | {: ^9} | {: ^9} | {: ^9} | {: ^9} | {: ^9} | {: ^9} | {: ^9} | {: ^9} | {: ^9} | {: ^9} |\".format(2,3,4,5,6,7,8,9,10,11))\n",
        "  print()\n",
        "  for i in policy:\n",
        "    print(\"{: ^11}|\".format(i), end = \"\")\n",
        "    for dealersum in range(10):\n",
        "      print(\" {: ^9} |\".format(policy[i][dealersum]), end = \"\")\n",
        "    print()"
      ],
      "metadata": {
        "id": "T5pw1U4-Tb2c"
      },
      "execution_count": null,
      "outputs": []
    },
    {
      "cell_type": "code",
      "source": [
        "print_policy(policy)"
      ],
      "metadata": {
        "colab": {
          "base_uri": "https://localhost:8080/"
        },
        "id": "t0onOKJ8WGlV",
        "outputId": "39a54f34-4cea-4393-f216-c8552ec42b16"
      },
      "execution_count": null,
      "outputs": [
        {
          "output_type": "stream",
          "name": "stdout",
          "text": [
            "You have ⬇ |     2     |     3     |     4     |     5     |     6     |     7     |     8     |     9     |    10     |    11     |\n",
            "\n",
            "    H4     |  double   | surrender | surrender | surrender |   stand   |  double   |    hit    | surrender | surrender |    hit    |\n",
            "    H5     | surrender |   stand   | surrender |   stand   |    hit    |  double   |   stand   |  double   | surrender |    hit    |\n",
            "    H6     |   stand   |    hit    | surrender | surrender |  double   | surrender |   stand   |   stand   |   stand   | surrender |\n",
            "    H7     |   stand   | surrender |   stand   |  double   |   stand   | surrender | surrender |   stand   |  double   |    hit    |\n",
            "    H8     |   stand   |  double   |    hit    |    hit    |    hit    |    hit    |    hit    |   stand   | surrender |  double   |\n",
            "    H9     |   stand   |   stand   |    hit    | surrender |   stand   |    hit    |   stand   |    hit    |   stand   | surrender |\n",
            "    H10    | surrender |   stand   |   stand   | surrender |    hit    |    hit    |    hit    | surrender |   stand   |   stand   |\n",
            "    H11    | surrender |   stand   |   stand   |  double   |  double   |    hit    |   stand   |    hit    |  double   |   stand   |\n",
            "    H12    |  double   |  double   |  double   |    hit    |  double   |   stand   |    hit    | surrender |   stand   |  double   |\n",
            "    H13    | surrender |   stand   | surrender |   stand   |   stand   |   stand   |    hit    |    hit    |  double   | surrender |\n",
            "    H14    |    hit    |  double   |    hit    |  double   |    hit    |    hit    |   stand   |  double   |    hit    | surrender |\n",
            "    H15    | surrender | surrender |    hit    | surrender |    hit    |   stand   |  double   |   stand   |   stand   | surrender |\n",
            "    H16    |  double   |    hit    |  double   |   stand   |   stand   |   stand   |   stand   | surrender |    hit    | surrender |\n",
            "    H17    |    hit    |   stand   |  double   |    hit    |   stand   |    hit    |  double   |    hit    |   stand   |   stand   |\n",
            "    H18    |    hit    |  double   |    hit    |  double   |    hit    | surrender |    hit    |  double   | surrender |    hit    |\n",
            "    H19    |   stand   | surrender | surrender | surrender | surrender |   stand   |  double   |   stand   |   stand   |    hit    |\n",
            "    H20    |    hit    | surrender |   stand   | surrender |   stand   | surrender |    hit    |  double   |   stand   |  double   |\n",
            "    S12    |    hit    |   stand   |   stand   |  double   |   stand   |  double   | surrender | surrender |    hit    | surrender |\n",
            "    S13    |   stand   |    hit    |   stand   |    hit    |    hit    |    hit    |   stand   |  double   |    hit    |    hit    |\n",
            "    S14    | surrender | surrender | surrender | surrender |    hit    |   stand   |    hit    |  double   |   stand   |    hit    |\n",
            "    S15    |   stand   | surrender |   stand   | surrender |    hit    |   stand   |   stand   | surrender |  double   |    hit    |\n",
            "    S16    |  double   |   stand   |  double   | surrender |   stand   |    hit    | surrender |   stand   |  double   |   stand   |\n",
            "    S17    |   stand   |   stand   |  double   |  double   |  double   |   stand   | surrender |    hit    | surrender | surrender |\n",
            "    S18    |   stand   |    hit    |    hit    |   stand   |    hit    |   stand   |   stand   |   stand   |    hit    | surrender |\n",
            "    S19    |  double   |  double   |   stand   |    hit    |    hit    | surrender |  double   |   stand   |   stand   |   stand   |\n",
            "    S20    | surrender |    hit    |    hit    |    hit    |    hit    |   stand   |   stand   | surrender |  double   | surrender |\n"
          ]
        }
      ]
    },
    {
      "cell_type": "markdown",
      "source": [
        "#### **Exploration vs Exploitation**\n",
        "\n",
        "<br>\n",
        "\n",
        "**Greedy action selection always exploits** current knowledge to maximize immediate reward; it spends no time at all sampling apparently inferior actions to see if they might really be better. A simple **alternative is to behave greedily most of the time, but every once in a while**, say with small probability ε, instead **select randomly from among all the actions** with equal probability, independently of the action-value estimates. We call methods using this near-greedy action selection rule **ε-greedy methods**.\n",
        "\n",
        "<br>\n",
        "\n",
        "Exploration is an important concept to achieve optimal values of different actions in various states. The above described method has been implemented below along with the agents strategy and exploration parameter but there are more exploration methods, namely upper confidence bound, optimistic greedy, gradient bandits etc. which we can compare to find the best results."
      ],
      "metadata": {
        "id": "Unuc9stAaqsM"
      }
    },
    {
      "cell_type": "code",
      "source": [
        "def agents_play(deck, num_decks, playercards, dealercards, bet, policy, rewards, exploration, explo_param):\n",
        "\n",
        "  if int(dealercards[0][:-1]) + int(dealercards[1][:-1]) == 21 and int(playercards[0][:-1]) + int(playercards[1][:-1]) == 21:\n",
        "    return bet\n",
        "\n",
        "    # Dealer BlackJack\n",
        "  elif int(dealercards[0][:-1]) + int(dealercards[1][:-1]) == 21:\n",
        "    return 0\n",
        "\n",
        "    # Player BlackJack\n",
        "  elif int(playercards[0][:-1]) + int(playercards[1][:-1]) == 21:\n",
        "    return bet*2.5\n",
        "\n",
        "  playersum = int(playercards[0][:-1]) + int(playercards[1][:-1])\n",
        "  doublehappend = False\n",
        "  hard = True\n",
        "  oneace = False\n",
        "  if playercards[0][:-1] == \"11\" or playercards[1][:-1]==\"11\":\n",
        "    hard = False\n",
        "    oneace=True\n",
        "  if playersum>21:\n",
        "    playersum-=10\n",
        "    \n",
        "  if exploration == \"epsilon_greedy\":\n",
        "    all_actions = []\n",
        "    while True:\n",
        "      if hard:\n",
        "        greedy_action = policy[\"H{}\".format(playersum)][int(dealercards[0][:-1])-2]\n",
        "      else:\n",
        "        greedy_action = policy[\"S{}\".format(playersum)][int(dealercards[0][:-1])-2]\n",
        "      #print(\"Greedy Action:\", greedy_action)\n",
        "      if np.random.uniform(0,1) >= explo_param:\n",
        "        action = greedy_action\n",
        "      else:\n",
        "        non_greedy = [\"hit\", \"stand\", \"double\", \"surrender\"]\n",
        "        non_greedy.remove(greedy_action)\n",
        "        #print(non_greedy)\n",
        "        action = np.random.choice(non_greedy, 1)[0]\n",
        "\n",
        "      #print(action)\n",
        "      if hard:\n",
        "        all_actions.append([\"H{}\".format(playersum), int(dealercards[0][:-1]), action])\n",
        "      else:\n",
        "        all_actions.append([\"S{}\".format(playersum), int(dealercards[0][:-1]), action])\n",
        "\n",
        "      if action.lower() == \"stand\":\n",
        "        break\n",
        "      elif action.lower() == \"hit\":\n",
        "        if len(deck) == 0:\n",
        "          deck = newdeck(num_decks)\n",
        "        playercards.append(deck.pop())\n",
        "        \n",
        "        if playercards[-1][:-1] == \"11\" and (playersum>=11 or oneace):\n",
        "          playersum+=1\n",
        "        elif playercards[-1][:-1] ==\"11\":\n",
        "          playersum+=11\n",
        "          hard=False\n",
        "          oneace = True\n",
        "        elif playersum + int(playercards[-1][:-1])>21 and not hard:\n",
        "          playersum-=10\n",
        "          playersum+=int(playercards[-1][:-1])\n",
        "          hard = True\n",
        "        else:\n",
        "          playersum+=int(playercards[-1][:-1])\n",
        "        \n",
        "        #print(\"Sum of your cards is\", playersum)\n",
        "        if playersum>=21:\n",
        "          break\n",
        "        \n",
        "      elif action.lower() == \"double\":\n",
        "        #if playersum>11:\n",
        "         # print(\"Double not allowed. Choose another action\")\n",
        "          #continue\n",
        "        \n",
        "        doublehappend=True\n",
        "        if len(deck) == 0:\n",
        "          deck = newdeck(num_decks)\n",
        "        playercards.append(deck.pop())\n",
        "        #print(playercards)\n",
        "\n",
        "        if playercards[-1][:-1]==\"11\" and playersum>=11:\n",
        "          playersum+=1\n",
        "        else:\n",
        "          playersum+=int(playercards[-1][:-1])\n",
        "        #print(\"Sum of your cards is\", playersum)\n",
        "        if playersum>21:\n",
        "          walkaway = -bet\n",
        "          update_rewards(rewards, all_actions, walkaway)\n",
        "          return walkaway\n",
        "        break\n",
        "      #elif action.lower() == \"split\":\n",
        "        #print(\"Code pending. Choose another action\")\n",
        "      elif action.lower() == \"surrender\":\n",
        "        walkaway = round(bet/2, 2)\n",
        "        update_rewards(rewards, all_actions, walkaway)\n",
        "        return walkaway\n",
        "      #else:\n",
        "       # print(\"Action\", action, \"not identified. Please check your action\")\n",
        "\n",
        "    \n",
        "    \n",
        "    if int(dealercards[0][:-1])==11 or int(dealercards[1][:-1])==11:\n",
        "      dealeroneace=True\n",
        "      dealerhard = False\n",
        "    else:\n",
        "      dealeroneace=False\n",
        "      dealerhard = True\n",
        "    if playersum>21:\n",
        "      #print(\"Player Busts! Dealer wins.\")\n",
        "      walkaway = 0\n",
        "      update_rewards(rewards, all_actions, walkaway)\n",
        "      return walkaway\n",
        "    #print(\"The Dealer's cards are:\", dealercards)\n",
        "    \n",
        "    dealersum = int(dealercards[0][:-1]) + int(dealercards[1][:-1])\n",
        "    #print(\"Dealer's sum is\", dealersum)\n",
        "\n",
        "\n",
        "    while dealersum<17:\n",
        "      #time.sleep(1)\n",
        "      if len(deck) == 0:\n",
        "        deck = newdeck(num_decks)\n",
        "      #print(\"Dealer hits!\")\n",
        "      dealercards.append(deck.pop())\n",
        "      #print(\"The Dealer's cards are:\", dealercards)\n",
        "      if dealercards[-1][:-1]==\"11\" and (dealeroneace or dealersum>=11):\n",
        "        dealersum+=1\n",
        "      elif dealercards[-1][:-1]==\"11\":\n",
        "        dealersum+=11\n",
        "        dealerhard = False\n",
        "        dealeroneace=True\n",
        "      elif dealersum + int(dealercards[-1][:-1])>21 and not dealerhard:\n",
        "        dealersum-=10\n",
        "        dealersum+=int(dealercards[-1][:-1])\n",
        "        dealerhard=True\n",
        "      else:\n",
        "        dealersum += int(dealercards[-1][:-1])\n",
        "      #print(\"Dealer sum is\", dealersum)\n",
        "      #time.sleep(1)\n",
        "    \n",
        "    if dealersum>21 or playersum>dealersum:\n",
        "      #print(\"Player wins!\")\n",
        "      if doublehappend:\n",
        "        walkaway = bet*3\n",
        "      else:\n",
        "        walkaway = bet*2\n",
        "    elif playersum==dealersum:\n",
        "      #print(\"It's a Draw\")\n",
        "      walkaway = bet\n",
        "    else:\n",
        "      #print(\"Dealer wins.\")\n",
        "      walkaway = -bet if doublehappend else 0  \n",
        "\n",
        "\n",
        "    update_rewards(rewards, all_actions, walkaway)\n",
        "  #print(walkaway)\n",
        "  return walkaway"
      ],
      "metadata": {
        "id": "hH_VZWkbb2S2"
      },
      "execution_count": null,
      "outputs": []
    },
    {
      "cell_type": "markdown",
      "source": [],
      "metadata": {
        "id": "vdlxyUcPrW0W"
      }
    },
    {
      "cell_type": "code",
      "source": [
        "def initialise_rewards():\n",
        "\n",
        "  reward = {\"H{}\".format(i):{\"hit\":[[0]*2 for _ in range(10)], \"stand\":[[0]*2 for _ in range(10)], \"double\":[[0]*2 for _ in range(10)], \"surrender\":[[0]*2 for _ in range(10)]} for i in range(4,21)}\n",
        "  for i in range(12,21):\n",
        "    reward[\"S{}\".format(i)] = {\"hit\":[[0]*2 for _ in range(10)], \"stand\":[[0]*2 for _ in range(10)], \"double\":[[0]*2 for _ in range(10)], \"surrender\":[[0]*2 for _ in range(10)]}\n",
        "  return reward\n",
        "#reward"
      ],
      "metadata": {
        "id": "KshI5blTZLP9"
      },
      "execution_count": null,
      "outputs": []
    },
    {
      "cell_type": "code",
      "source": [
        "def update_policy(policy, reward):\n",
        "  actions = [\"hit\", \"stand\", \"double\", \"surrender\"]\n",
        "  for yoursum in reward:\n",
        "    #print(\"You Have:\", yoursum)\n",
        "    for dealersum in range(10):\n",
        "      #print(\"Dealer have:\", dealersum)\n",
        "      bestaction = None\n",
        "      best_reward = -float(\"inf\")\n",
        "      for action in actions:\n",
        "        if reward[yoursum][action][dealersum][0]>best_reward:\n",
        "          bestaction = action\n",
        "          best_reward = reward[yoursum][action][dealersum][0]\n",
        "      \n",
        "      policy[yoursum][dealersum] = bestaction\n",
        "  return"
      ],
      "metadata": {
        "id": "sdfHq0zCUjQT"
      },
      "execution_count": null,
      "outputs": []
    },
    {
      "cell_type": "code",
      "source": [
        "def update_rewards (rewards, all_actions, walkaway):\n",
        "  for actionchosen in all_actions:\n",
        "    rsofar = rewards[actionchosen[0]][actionchosen[2]][actionchosen[1]-2][0]\n",
        "    csofar = rewards[actionchosen[0]][actionchosen[2]][actionchosen[1]-2][1]\n",
        "    rsofar = (rsofar*csofar +walkaway)/(csofar+1)\n",
        "    csofar+=1\n",
        "    rewards[actionchosen[0]][actionchosen[2]][actionchosen[1]-2][0] = rsofar\n",
        "    rewards[actionchosen[0]][actionchosen[2]][actionchosen[1]-2][1] = csofar"
      ],
      "metadata": {
        "id": "uuVn52unXjCb"
      },
      "execution_count": null,
      "outputs": []
    },
    {
      "cell_type": "code",
      "source": [
        "reward = initialise_rewards()"
      ],
      "metadata": {
        "id": "aXaqz2e5kslC"
      },
      "execution_count": null,
      "outputs": []
    },
    {
      "cell_type": "code",
      "source": [
        "profits1 = []\n",
        "num_decks=2\n",
        "num_hands = 10000\n",
        "num_simulations = 1000\n",
        "bet_amount = 1\n",
        "\n",
        "for i in range(num_simulations):\n",
        "  profits1.append(BlackJack(num_decks, \"agent\", num_hands, bet_amount, policy, initialise_rewards(), explo_param = 0))"
      ],
      "metadata": {
        "id": "Le9RuyLCxTRR"
      },
      "execution_count": null,
      "outputs": []
    },
    {
      "cell_type": "code",
      "source": [
        "sum(profits1)/len(profits1)"
      ],
      "metadata": {
        "colab": {
          "base_uri": "https://localhost:8080/"
        },
        "id": "Umotnn5oeXkF",
        "outputId": "c5e21185-a2a9-43b4-be27-54a4851158cb"
      },
      "execution_count": null,
      "outputs": [
        {
          "output_type": "execute_result",
          "data": {
            "text/plain": [
              "-4591.905"
            ]
          },
          "metadata": {},
          "execution_count": 40
        }
      ]
    },
    {
      "cell_type": "code",
      "source": [
        "plt.title(\"Frequency of Profits in 10000 Games over 1000 interations\")\n",
        "plt.xlabel(\"Rewards Gained\")\n",
        "plt.ylabel(\"Frequency\")\n",
        "plt.hist(profits1, color = 'blue', edgecolor = 'black')\n",
        "plt.show()\n",
        "#plt.savefig(\"Random Strategy.png\")"
      ],
      "metadata": {
        "colab": {
          "base_uri": "https://localhost:8080/",
          "height": 295
        },
        "id": "DL2Gh-S9198U",
        "outputId": "6f7edb98-ec54-4db6-c9e4-bd869b2f88f7"
      },
      "execution_count": null,
      "outputs": [
        {
          "output_type": "display_data",
          "data": {
            "text/plain": [
              "<Figure size 432x288 with 1 Axes>"
            ],
            "image/png": "[encoded data removed]"
          },
          "metadata": {
            "needs_background": "light"
          }
        }
      ]
    },
    {
      "cell_type": "code",
      "source": [
        "plt.title(\"Profit in 10000 Hands over 1000 Iterations\")\n",
        "plt.ylabel(\"Rewards Gained\")\n",
        "plt.xlabel(\"Game Number\")\n",
        "plt.plot(profits1)\n",
        "#plt.savefig(\"Basic Strategy Games\")"
      ],
      "metadata": {
        "colab": {
          "base_uri": "https://localhost:8080/",
          "height": 312
        },
        "id": "-sfwJvRo19y7",
        "outputId": "6743c74c-6a56-4950-97df-d6be77272321"
      },
      "execution_count": null,
      "outputs": [
        {
          "output_type": "execute_result",
          "data": {
            "text/plain": [
              "[<matplotlib.lines.Line2D at 0x7fb7e5190bd0>]"
            ]
          },
          "metadata": {},
          "execution_count": 42
        },
        {
          "output_type": "display_data",
          "data": {
            "text/plain": [
              "<Figure size 432x288 with 1 Axes>"
            ],
            "image/png": "[encoded data removed]"
          },
          "metadata": {
            "needs_background": "light"
          }
        }
      ]
    },
    {
      "cell_type": "code",
      "source": [
        "num_decks=2\n",
        "num_hands=1000\n",
        "bet_amount=1\n",
        "\n",
        "BlackJack(num_decks, \"agent\", num_hands, bet_amount, policy, initialise_rewards())"
      ],
      "metadata": {
        "colab": {
          "base_uri": "https://localhost:8080/"
        },
        "id": "AR6VGeSLfaVq",
        "outputId": "9ea8cecd-30f2-4081-86ef-7b8afdc489bf"
      },
      "execution_count": null,
      "outputs": [
        {
          "output_type": "execute_result",
          "data": {
            "text/plain": [
              "-454.5"
            ]
          },
          "metadata": {},
          "execution_count": 43
        }
      ]
    },
    {
      "cell_type": "code",
      "source": [
        "num_decks=2\n",
        "num_hands=1000\n",
        "bet_amount=1\n",
        "wins = []\n",
        "\n",
        "for _ in range(10000):\n",
        "  winnings = BlackJack(num_decks, \"agent\", num_hands, bet_amount, policy, reward)\n",
        "  update_policy(policy, reward)\n",
        "  wins.append(winnings)\n",
        "  #print(winnings)"
      ],
      "metadata": {
        "id": "HXyR_4qJ2roM"
      },
      "execution_count": null,
      "outputs": []
    },
    {
      "cell_type": "code",
      "source": [
        "sum(wins)/len(wins)"
      ],
      "metadata": {
        "colab": {
          "base_uri": "https://localhost:8080/"
        },
        "id": "_5VrxC85jkGE",
        "outputId": "a85e422c-77a1-44b5-e03f-9cbefd15179e"
      },
      "execution_count": null,
      "outputs": [
        {
          "output_type": "execute_result",
          "data": {
            "text/plain": [
              "-74.5172"
            ]
          },
          "metadata": {},
          "execution_count": 45
        }
      ]
    },
    {
      "cell_type": "code",
      "source": [
        "plt.title(\"Agent's profit over 10000 hands using Monte Carlo Methods\")\n",
        "plt.ylabel(\"Rewards Gained\")\n",
        "plt.xlabel(\"Iteration\")\n",
        "\n",
        "plt.scatter([i for i in range(len(wins))], wins)\n",
        "#plt.savefig(\"Monte Carlo Games\")"
      ],
      "metadata": {
        "colab": {
          "base_uri": "https://localhost:8080/",
          "height": 312
        },
        "id": "SdDlo_kR4mbx",
        "outputId": "46ecfe23-6447-4c0d-820d-659f137771ce"
      },
      "execution_count": null,
      "outputs": [
        {
          "output_type": "execute_result",
          "data": {
            "text/plain": [
              "<matplotlib.collections.PathCollection at 0x7fb7e568a090>"
            ]
          },
          "metadata": {},
          "execution_count": 46
        },
        {
          "output_type": "display_data",
          "data": {
            "text/plain": [
              "<Figure size 432x288 with 1 Axes>"
            ],
            "image/png": "[encoded data removed]"
          },
          "metadata": {
            "needs_background": "light"
          }
        }
      ]
    },
    {
      "cell_type": "code",
      "source": [
        "plt.title(\"Agent's profit over 10000 hands using Monte Carlo Methods\")\n",
        "plt.ylabel(\"Rewards Gained\")\n",
        "plt.xlabel(\"Iteration\")\n",
        "plt.plot(wins[:1000])\n",
        "plt.savefig(\"Monte Carlo Games 1\")"
      ],
      "metadata": {
        "colab": {
          "base_uri": "https://localhost:8080/",
          "height": 295
        },
        "id": "i3WLIB354Bvz",
        "outputId": "f5b17e92-e193-4a8f-e1a2-bb71ad77bcde"
      },
      "execution_count": null,
      "outputs": [
        {
          "output_type": "display_data",
          "data": {
            "text/plain": [
              "<Figure size 432x288 with 1 Axes>"
            ],
            "image/png": "[encoded data removed]"
          },
          "metadata": {
            "needs_background": "light"
          }
        }
      ]
    },
    {
      "cell_type": "code",
      "source": [
        "print_policy(policy)"
      ],
      "metadata": {
        "colab": {
          "base_uri": "https://localhost:8080/"
        },
        "id": "gEzAziloimtk",
        "outputId": "4cc91054-1488-4a6d-c1cd-46c93abefbf7"
      },
      "execution_count": null,
      "outputs": [
        {
          "output_type": "stream",
          "name": "stdout",
          "text": [
            "You have ⬇ |     2     |     3     |     4     |     5     |     6     |     7     |     8     |     9     |    10     |    11     |\n",
            "\n",
            "    H4     |    hit    |    hit    |    hit    |    hit    |    hit    |    hit    |    hit    |    hit    |    hit    |    hit    |\n",
            "    H5     |    hit    |    hit    |    hit    |    hit    |    hit    |    hit    |    hit    |    hit    |    hit    |    hit    |\n",
            "    H6     |    hit    |    hit    |    hit    |    hit    |    hit    |    hit    |    hit    |    hit    |    hit    |    hit    |\n",
            "    H7     |    hit    |    hit    |    hit    |    hit    |    hit    |    hit    |    hit    |    hit    |    hit    |    hit    |\n",
            "    H8     |    hit    |    hit    |    hit    |    hit    |    hit    |    hit    |    hit    |    hit    |    hit    |    hit    |\n",
            "    H9     |  double   |  double   |  double   |  double   |  double   |  double   |    hit    |    hit    |    hit    |    hit    |\n",
            "    H10    |  double   |  double   |  double   |  double   |  double   |  double   |  double   |  double   |  double   |  double   |\n",
            "    H11    |  double   |  double   |  double   |  double   |  double   |  double   |  double   |  double   |  double   |  double   |\n",
            "    H12    |   stand   |   stand   |   stand   |   stand   |   stand   |    hit    |    hit    |    hit    |    hit    |    hit    |\n",
            "    H13    |   stand   |   stand   |   stand   |   stand   |   stand   |    hit    |    hit    |    hit    |    hit    |    hit    |\n",
            "    H14    |   stand   |   stand   |   stand   |   stand   |   stand   |    hit    |    hit    |    hit    |    hit    |    hit    |\n",
            "    H15    |   stand   |   stand   |   stand   |   stand   |   stand   |    hit    |    hit    | surrender | surrender | surrender |\n",
            "    H16    |   stand   |   stand   |   stand   |   stand   |   stand   |    hit    |    hit    | surrender | surrender | surrender |\n",
            "    H17    |   stand   |   stand   |   stand   |   stand   |   stand   |   stand   |   stand   |   stand   |   stand   |   stand   |\n",
            "    H18    |   stand   |   stand   |   stand   |   stand   |   stand   |   stand   |   stand   |   stand   |   stand   |   stand   |\n",
            "    H19    |   stand   |   stand   |   stand   |   stand   |   stand   |   stand   |   stand   |   stand   |   stand   |   stand   |\n",
            "    H20    |   stand   |   stand   |   stand   |   stand   |   stand   |   stand   |   stand   |   stand   |   stand   |   stand   |\n",
            "    S12    |    hit    |    hit    |    hit    |    hit    |    hit    |    hit    |    hit    |    hit    |    hit    |    hit    |\n",
            "    S13    |    hit    |    hit    |    hit    |    hit    |    hit    |    hit    |    hit    |    hit    |    hit    |    hit    |\n",
            "    S14    |    hit    |    hit    |    hit    |    hit    |    hit    |    hit    |    hit    |    hit    |    hit    |    hit    |\n",
            "    S15    |    hit    |    hit    |    hit    |    hit    |    hit    |    hit    |    hit    |    hit    |    hit    |    hit    |\n",
            "    S16    |    hit    |    hit    |    hit    |    hit    |    hit    |    hit    |    hit    |    hit    |    hit    |    hit    |\n",
            "    S17    |    hit    |    hit    |    hit    |    hit    |    hit    |    hit    |    hit    |    hit    |    hit    |    hit    |\n",
            "    S18    |   stand   |   stand   |   stand   |   stand   |   stand   |   stand   |   stand   |    hit    |   stand   |   stand   |\n",
            "    S19    |   stand   |   stand   |   stand   |   stand   |   stand   |   stand   |   stand   |   stand   |   stand   |   stand   |\n",
            "    S20    |   stand   |   stand   |   stand   |   stand   |   stand   |   stand   |   stand   |   stand   |   stand   |   stand   |\n"
          ]
        }
      ]
    },
    {
      "cell_type": "code",
      "source": [
        "plt.title(\"Monte Carlo's Standing\")\n",
        "plt.xlabel(\"Iteration\")\n",
        "plt.ylabel(\"Rewards Gained\")\n",
        "\n",
        "plt.plot(wins[:1000], label=\"Monte Carlo Methods\", color= \"red\")\n",
        "plt.plot(profits1, label=\"Random Strategy\")\n",
        "plt.plot(profits, label=\"Edward Thorpe Basic Strategy\", color= \"yellow\")\n",
        "plt.legend()\n",
        "plt.show()"
      ],
      "metadata": {
        "colab": {
          "base_uri": "https://localhost:8080/",
          "height": 295
        },
        "id": "vxluci0zH8aP",
        "outputId": "78ce54fb-231d-4c26-d432-cdd9800cf4b0"
      },
      "execution_count": null,
      "outputs": [
        {
          "output_type": "display_data",
          "data": {
            "text/plain": [
              "<Figure size 432x288 with 1 Axes>"
            ],
            "image/png": "[encoded data removed]"
          },
          "metadata": {
            "needs_background": "light"
          }
        }
      ]
    },
    {
      "cell_type": "code",
      "source": [],
      "metadata": {
        "id": "KQI1a6r0QdgW"
      },
      "execution_count": null,
      "outputs": []
    }
  ]
}